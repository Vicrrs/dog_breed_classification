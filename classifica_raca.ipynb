{
  "nbformat": 4,
  "nbformat_minor": 0,
  "metadata": {
    "colab": {
      "provenance": [],
      "authorship_tag": "ABX9TyMEEoPkyvlhMA3FzjEpRMqh",
      "include_colab_link": true
    },
    "kernelspec": {
      "name": "python3",
      "display_name": "Python 3"
    },
    "language_info": {
      "name": "python"
    },
    "accelerator": "GPU",
    "gpuClass": "standard"
  },
  "cells": [
    {
      "cell_type": "markdown",
      "metadata": {
        "id": "view-in-github",
        "colab_type": "text"
      },
      "source": [
        "<a href=\"https://colab.research.google.com/github/Vicrrs/dog_breed_classification/blob/main/classifica_raca.ipynb\" target=\"_parent\"><img src=\"https://colab.research.google.com/assets/colab-badge.svg\" alt=\"Open In Colab\"/></a>"
      ]
    },
    {
      "cell_type": "markdown",
      "source": [
        "# Classificação de raças de cachorros"
      ],
      "metadata": {
        "id": "Pe4wXFklhRLu"
      }
    },
    {
      "cell_type": "markdown",
      "source": [
        "### Baixando e descompactando dados\n"
      ],
      "metadata": {
        "id": "Ku8mTZ6CkWMv"
      }
    },
    {
      "cell_type": "code",
      "execution_count": 2,
      "metadata": {
        "colab": {
          "base_uri": "https://localhost:8080/"
        },
        "id": "AcUF2uX0hOTh",
        "outputId": "5b006c47-fd7a-4095-b4cd-401d91518680"
      },
      "outputs": [
        {
          "output_type": "stream",
          "name": "stdout",
          "text": [
            "--2023-02-17 01:28:38--  https://s3.amazonaws.com/fast-ai-imageclas/imagewoof2.tgz\n",
            "Resolving s3.amazonaws.com (s3.amazonaws.com)... 52.216.178.165, 52.217.34.22, 52.217.10.222, ...\n",
            "Connecting to s3.amazonaws.com (s3.amazonaws.com)|52.216.178.165|:443... connected.\n",
            "HTTP request sent, awaiting response... 200 OK\n",
            "Length: 1343715595 (1.3G) [application/x-tar]\n",
            "Saving to: ‘imagewoof2.tgz’\n",
            "\n",
            "imagewoof2.tgz      100%[===================>]   1.25G  11.8MB/s    in 1m 56s  \n",
            "\n",
            "2023-02-17 01:30:35 (11.1 MB/s) - ‘imagewoof2.tgz’ saved [1343715595/1343715595]\n",
            "\n"
          ]
        }
      ],
      "source": [
        "!wget https://s3.amazonaws.com/fast-ai-imageclas/imagewoof2.tgz"
      ]
    },
    {
      "cell_type": "code",
      "source": [
        "!tar zxvf imagewoof2.tgz\n"
      ],
      "metadata": {
        "id": "9TwxJxa8kwR8"
      },
      "execution_count": null,
      "outputs": []
    },
    {
      "cell_type": "markdown",
      "source": [
        "## Instalação da Biblioteca deepfeatx"
      ],
      "metadata": {
        "id": "TNpEe5_mmHIV"
      }
    },
    {
      "cell_type": "code",
      "source": [
        "!pip install deepfeatx"
      ],
      "metadata": {
        "id": "VDFWmB8WmIf9"
      },
      "execution_count": null,
      "outputs": []
    },
    {
      "cell_type": "markdown",
      "source": [
        "## Extrair características a partir das imagens"
      ],
      "metadata": {
        "id": "mQE_lXolmOrj"
      }
    },
    {
      "cell_type": "code",
      "source": [
        "from deepfeatx.image import ImageFeatureExtractor"
      ],
      "metadata": {
        "id": "B5BJzKQEmQG7"
      },
      "execution_count": 5,
      "outputs": []
    },
    {
      "cell_type": "code",
      "source": [
        "fe = ImageFeatureExtractor('efficientnetb4')"
      ],
      "metadata": {
        "colab": {
          "base_uri": "https://localhost:8080/"
        },
        "id": "rEz1Y3Ns_L5y",
        "outputId": "931f2559-ac4b-4e85-c9c6-ce75b053e930"
      },
      "execution_count": 6,
      "outputs": [
        {
          "output_type": "stream",
          "name": "stdout",
          "text": [
            "Downloading data from https://storage.googleapis.com/keras-applications/efficientnetb4_notop.h5\n",
            "71686520/71686520 [==============================] - 4s 0us/step\n"
          ]
        }
      ]
    },
    {
      "cell_type": "code",
      "source": [
        "train = fe.extract_features_from_directory('/content/imagewoof2/train',\n",
        "                                   classes_as_folders=True,\n",
        "                                   export_class_names=True)"
      ],
      "metadata": {
        "colab": {
          "base_uri": "https://localhost:8080/"
        },
        "id": "KN1vHktT_3Xw",
        "outputId": "2ab18ae3-b6c3-4d81-806e-d13930020573"
      },
      "execution_count": 7,
      "outputs": [
        {
          "output_type": "stream",
          "name": "stdout",
          "text": [
            "Found 9025 images belonging to 10 classes.\n",
            "283/283 [==============================] - 67s 199ms/step\n"
          ]
        }
      ]
    },
    {
      "cell_type": "code",
      "source": [
        "train.head()"
      ],
      "metadata": {
        "colab": {
          "base_uri": "https://localhost:8080/",
          "height": 299
        },
        "id": "V3Twoykm_8Uc",
        "outputId": "fbd6fdeb-ea77-4ea9-fd0e-23aa855874ed"
      },
      "execution_count": 8,
      "outputs": [
        {
          "output_type": "execute_result",
          "data": {
            "text/plain": [
              "                                           filepaths    classes         0  \\\n",
              "0  /content/imagewoof2/train/n02086240/ILSVRC2012...  n02086240  0.235262   \n",
              "1  /content/imagewoof2/train/n02086240/ILSVRC2012...  n02086240  0.149054   \n",
              "2  /content/imagewoof2/train/n02086240/ILSVRC2012...  n02086240 -0.147828   \n",
              "3  /content/imagewoof2/train/n02086240/ILSVRC2012...  n02086240  0.036386   \n",
              "4  /content/imagewoof2/train/n02086240/ILSVRC2012...  n02086240  0.475484   \n",
              "\n",
              "          1         2         3         4         5         6         7  ...  \\\n",
              "0 -0.097540  0.160580  0.271798  0.132469  1.340623 -0.156224  0.014820  ...   \n",
              "1  0.001021 -0.156537 -0.204830  0.105294  0.296549 -0.165714 -0.156713  ...   \n",
              "2 -0.106601 -0.054298  0.146187 -0.199876  0.610708 -0.145832 -0.126739  ...   \n",
              "3  0.102320 -0.176408  0.841933 -0.208296  0.064328 -0.208992 -0.145640  ...   \n",
              "4 -0.179249 -0.156005  0.572106  0.241926  0.560687 -0.111141 -0.133351  ...   \n",
              "\n",
              "       1782      1783      1784      1785      1786      1787      1788  \\\n",
              "0  0.215442  0.158624 -0.201360 -0.204290  0.356231  0.118752 -0.154093   \n",
              "1  0.504865 -0.136174 -0.146207 -0.236528 -0.211885  0.061007 -0.201124   \n",
              "2 -0.005589 -0.030053 -0.161283 -0.110392 -0.168649  0.013537 -0.167244   \n",
              "3  0.068088 -0.181514 -0.159000 -0.171961  0.044891 -0.038166 -0.219997   \n",
              "4  0.250929 -0.056767 -0.180065 -0.197333  0.046616  0.264113 -0.217478   \n",
              "\n",
              "       1789      1790      1791  \n",
              "0  0.298172 -0.179607 -0.194276  \n",
              "1 -0.190740 -0.197862 -0.203315  \n",
              "2 -0.071271 -0.101303 -0.145833  \n",
              "3 -0.180216 -0.236641  0.760273  \n",
              "4 -0.186778 -0.195400 -0.168541  \n",
              "\n",
              "[5 rows x 1794 columns]"
            ],
            "text/html": [
              "\n",
              "  <div id=\"df-d8336fdb-28b3-4cb8-9c57-e4f0b7334850\">\n",
              "    <div class=\"colab-df-container\">\n",
              "      <div>\n",
              "<style scoped>\n",
              "    .dataframe tbody tr th:only-of-type {\n",
              "        vertical-align: middle;\n",
              "    }\n",
              "\n",
              "    .dataframe tbody tr th {\n",
              "        vertical-align: top;\n",
              "    }\n",
              "\n",
              "    .dataframe thead th {\n",
              "        text-align: right;\n",
              "    }\n",
              "</style>\n",
              "<table border=\"1\" class=\"dataframe\">\n",
              "  <thead>\n",
              "    <tr style=\"text-align: right;\">\n",
              "      <th></th>\n",
              "      <th>filepaths</th>\n",
              "      <th>classes</th>\n",
              "      <th>0</th>\n",
              "      <th>1</th>\n",
              "      <th>2</th>\n",
              "      <th>3</th>\n",
              "      <th>4</th>\n",
              "      <th>5</th>\n",
              "      <th>6</th>\n",
              "      <th>7</th>\n",
              "      <th>...</th>\n",
              "      <th>1782</th>\n",
              "      <th>1783</th>\n",
              "      <th>1784</th>\n",
              "      <th>1785</th>\n",
              "      <th>1786</th>\n",
              "      <th>1787</th>\n",
              "      <th>1788</th>\n",
              "      <th>1789</th>\n",
              "      <th>1790</th>\n",
              "      <th>1791</th>\n",
              "    </tr>\n",
              "  </thead>\n",
              "  <tbody>\n",
              "    <tr>\n",
              "      <th>0</th>\n",
              "      <td>/content/imagewoof2/train/n02086240/ILSVRC2012...</td>\n",
              "      <td>n02086240</td>\n",
              "      <td>0.235262</td>\n",
              "      <td>-0.097540</td>\n",
              "      <td>0.160580</td>\n",
              "      <td>0.271798</td>\n",
              "      <td>0.132469</td>\n",
              "      <td>1.340623</td>\n",
              "      <td>-0.156224</td>\n",
              "      <td>0.014820</td>\n",
              "      <td>...</td>\n",
              "      <td>0.215442</td>\n",
              "      <td>0.158624</td>\n",
              "      <td>-0.201360</td>\n",
              "      <td>-0.204290</td>\n",
              "      <td>0.356231</td>\n",
              "      <td>0.118752</td>\n",
              "      <td>-0.154093</td>\n",
              "      <td>0.298172</td>\n",
              "      <td>-0.179607</td>\n",
              "      <td>-0.194276</td>\n",
              "    </tr>\n",
              "    <tr>\n",
              "      <th>1</th>\n",
              "      <td>/content/imagewoof2/train/n02086240/ILSVRC2012...</td>\n",
              "      <td>n02086240</td>\n",
              "      <td>0.149054</td>\n",
              "      <td>0.001021</td>\n",
              "      <td>-0.156537</td>\n",
              "      <td>-0.204830</td>\n",
              "      <td>0.105294</td>\n",
              "      <td>0.296549</td>\n",
              "      <td>-0.165714</td>\n",
              "      <td>-0.156713</td>\n",
              "      <td>...</td>\n",
              "      <td>0.504865</td>\n",
              "      <td>-0.136174</td>\n",
              "      <td>-0.146207</td>\n",
              "      <td>-0.236528</td>\n",
              "      <td>-0.211885</td>\n",
              "      <td>0.061007</td>\n",
              "      <td>-0.201124</td>\n",
              "      <td>-0.190740</td>\n",
              "      <td>-0.197862</td>\n",
              "      <td>-0.203315</td>\n",
              "    </tr>\n",
              "    <tr>\n",
              "      <th>2</th>\n",
              "      <td>/content/imagewoof2/train/n02086240/ILSVRC2012...</td>\n",
              "      <td>n02086240</td>\n",
              "      <td>-0.147828</td>\n",
              "      <td>-0.106601</td>\n",
              "      <td>-0.054298</td>\n",
              "      <td>0.146187</td>\n",
              "      <td>-0.199876</td>\n",
              "      <td>0.610708</td>\n",
              "      <td>-0.145832</td>\n",
              "      <td>-0.126739</td>\n",
              "      <td>...</td>\n",
              "      <td>-0.005589</td>\n",
              "      <td>-0.030053</td>\n",
              "      <td>-0.161283</td>\n",
              "      <td>-0.110392</td>\n",
              "      <td>-0.168649</td>\n",
              "      <td>0.013537</td>\n",
              "      <td>-0.167244</td>\n",
              "      <td>-0.071271</td>\n",
              "      <td>-0.101303</td>\n",
              "      <td>-0.145833</td>\n",
              "    </tr>\n",
              "    <tr>\n",
              "      <th>3</th>\n",
              "      <td>/content/imagewoof2/train/n02086240/ILSVRC2012...</td>\n",
              "      <td>n02086240</td>\n",
              "      <td>0.036386</td>\n",
              "      <td>0.102320</td>\n",
              "      <td>-0.176408</td>\n",
              "      <td>0.841933</td>\n",
              "      <td>-0.208296</td>\n",
              "      <td>0.064328</td>\n",
              "      <td>-0.208992</td>\n",
              "      <td>-0.145640</td>\n",
              "      <td>...</td>\n",
              "      <td>0.068088</td>\n",
              "      <td>-0.181514</td>\n",
              "      <td>-0.159000</td>\n",
              "      <td>-0.171961</td>\n",
              "      <td>0.044891</td>\n",
              "      <td>-0.038166</td>\n",
              "      <td>-0.219997</td>\n",
              "      <td>-0.180216</td>\n",
              "      <td>-0.236641</td>\n",
              "      <td>0.760273</td>\n",
              "    </tr>\n",
              "    <tr>\n",
              "      <th>4</th>\n",
              "      <td>/content/imagewoof2/train/n02086240/ILSVRC2012...</td>\n",
              "      <td>n02086240</td>\n",
              "      <td>0.475484</td>\n",
              "      <td>-0.179249</td>\n",
              "      <td>-0.156005</td>\n",
              "      <td>0.572106</td>\n",
              "      <td>0.241926</td>\n",
              "      <td>0.560687</td>\n",
              "      <td>-0.111141</td>\n",
              "      <td>-0.133351</td>\n",
              "      <td>...</td>\n",
              "      <td>0.250929</td>\n",
              "      <td>-0.056767</td>\n",
              "      <td>-0.180065</td>\n",
              "      <td>-0.197333</td>\n",
              "      <td>0.046616</td>\n",
              "      <td>0.264113</td>\n",
              "      <td>-0.217478</td>\n",
              "      <td>-0.186778</td>\n",
              "      <td>-0.195400</td>\n",
              "      <td>-0.168541</td>\n",
              "    </tr>\n",
              "  </tbody>\n",
              "</table>\n",
              "<p>5 rows × 1794 columns</p>\n",
              "</div>\n",
              "      <button class=\"colab-df-convert\" onclick=\"convertToInteractive('df-d8336fdb-28b3-4cb8-9c57-e4f0b7334850')\"\n",
              "              title=\"Convert this dataframe to an interactive table.\"\n",
              "              style=\"display:none;\">\n",
              "        \n",
              "  <svg xmlns=\"http://www.w3.org/2000/svg\" height=\"24px\"viewBox=\"0 0 24 24\"\n",
              "       width=\"24px\">\n",
              "    <path d=\"M0 0h24v24H0V0z\" fill=\"none\"/>\n",
              "    <path d=\"M18.56 5.44l.94 2.06.94-2.06 2.06-.94-2.06-.94-.94-2.06-.94 2.06-2.06.94zm-11 1L8.5 8.5l.94-2.06 2.06-.94-2.06-.94L8.5 2.5l-.94 2.06-2.06.94zm10 10l.94 2.06.94-2.06 2.06-.94-2.06-.94-.94-2.06-.94 2.06-2.06.94z\"/><path d=\"M17.41 7.96l-1.37-1.37c-.4-.4-.92-.59-1.43-.59-.52 0-1.04.2-1.43.59L10.3 9.45l-7.72 7.72c-.78.78-.78 2.05 0 2.83L4 21.41c.39.39.9.59 1.41.59.51 0 1.02-.2 1.41-.59l7.78-7.78 2.81-2.81c.8-.78.8-2.07 0-2.86zM5.41 20L4 18.59l7.72-7.72 1.47 1.35L5.41 20z\"/>\n",
              "  </svg>\n",
              "      </button>\n",
              "      \n",
              "  <style>\n",
              "    .colab-df-container {\n",
              "      display:flex;\n",
              "      flex-wrap:wrap;\n",
              "      gap: 12px;\n",
              "    }\n",
              "\n",
              "    .colab-df-convert {\n",
              "      background-color: #E8F0FE;\n",
              "      border: none;\n",
              "      border-radius: 50%;\n",
              "      cursor: pointer;\n",
              "      display: none;\n",
              "      fill: #1967D2;\n",
              "      height: 32px;\n",
              "      padding: 0 0 0 0;\n",
              "      width: 32px;\n",
              "    }\n",
              "\n",
              "    .colab-df-convert:hover {\n",
              "      background-color: #E2EBFA;\n",
              "      box-shadow: 0px 1px 2px rgba(60, 64, 67, 0.3), 0px 1px 3px 1px rgba(60, 64, 67, 0.15);\n",
              "      fill: #174EA6;\n",
              "    }\n",
              "\n",
              "    [theme=dark] .colab-df-convert {\n",
              "      background-color: #3B4455;\n",
              "      fill: #D2E3FC;\n",
              "    }\n",
              "\n",
              "    [theme=dark] .colab-df-convert:hover {\n",
              "      background-color: #434B5C;\n",
              "      box-shadow: 0px 1px 3px 1px rgba(0, 0, 0, 0.15);\n",
              "      filter: drop-shadow(0px 1px 2px rgba(0, 0, 0, 0.3));\n",
              "      fill: #FFFFFF;\n",
              "    }\n",
              "  </style>\n",
              "\n",
              "      <script>\n",
              "        const buttonEl =\n",
              "          document.querySelector('#df-d8336fdb-28b3-4cb8-9c57-e4f0b7334850 button.colab-df-convert');\n",
              "        buttonEl.style.display =\n",
              "          google.colab.kernel.accessAllowed ? 'block' : 'none';\n",
              "\n",
              "        async function convertToInteractive(key) {\n",
              "          const element = document.querySelector('#df-d8336fdb-28b3-4cb8-9c57-e4f0b7334850');\n",
              "          const dataTable =\n",
              "            await google.colab.kernel.invokeFunction('convertToInteractive',\n",
              "                                                     [key], {});\n",
              "          if (!dataTable) return;\n",
              "\n",
              "          const docLinkHtml = 'Like what you see? Visit the ' +\n",
              "            '<a target=\"_blank\" href=https://colab.research.google.com/notebooks/data_table.ipynb>data table notebook</a>'\n",
              "            + ' to learn more about interactive tables.';\n",
              "          element.innerHTML = '';\n",
              "          dataTable['output_type'] = 'display_data';\n",
              "          await google.colab.output.renderOutput(dataTable, element);\n",
              "          const docLink = document.createElement('div');\n",
              "          docLink.innerHTML = docLinkHtml;\n",
              "          element.appendChild(docLink);\n",
              "        }\n",
              "      </script>\n",
              "    </div>\n",
              "  </div>\n",
              "  "
            ]
          },
          "metadata": {},
          "execution_count": 8
        }
      ]
    },
    {
      "cell_type": "code",
      "source": [
        "test = fe.extract_features_from_directory('/content/imagewoof2/val',\n",
        "                                   classes_as_folders=True,\n",
        "                                   export_class_names=True)"
      ],
      "metadata": {
        "colab": {
          "base_uri": "https://localhost:8080/"
        },
        "id": "nBPUal-r_-Ri",
        "outputId": "b661063c-f556-4fa0-fe95-549599a9e4e0"
      },
      "execution_count": 9,
      "outputs": [
        {
          "output_type": "stream",
          "name": "stdout",
          "text": [
            "Found 3929 images belonging to 10 classes.\n",
            "123/123 [==============================] - 21s 170ms/step\n"
          ]
        }
      ]
    },
    {
      "cell_type": "code",
      "source": [
        "test.head()"
      ],
      "metadata": {
        "colab": {
          "base_uri": "https://localhost:8080/",
          "height": 299
        },
        "id": "yTv-oKW5__1T",
        "outputId": "5091e0f6-8c7f-42a3-b3f4-16316ee0625e"
      },
      "execution_count": 10,
      "outputs": [
        {
          "output_type": "execute_result",
          "data": {
            "text/plain": [
              "                                           filepaths    classes         0  \\\n",
              "0  /content/imagewoof2/val/n02086240/ILSVRC2012_v...  n02086240  0.010032   \n",
              "1  /content/imagewoof2/val/n02086240/ILSVRC2012_v...  n02086240 -0.067582   \n",
              "2  /content/imagewoof2/val/n02086240/ILSVRC2012_v...  n02086240  0.042435   \n",
              "3  /content/imagewoof2/val/n02086240/ILSVRC2012_v...  n02086240  0.332426   \n",
              "4  /content/imagewoof2/val/n02086240/ILSVRC2012_v...  n02086240  0.263282   \n",
              "\n",
              "          1         2         3         4         5         6         7  ...  \\\n",
              "0 -0.134886 -0.145639  0.219374 -0.187060  0.417243 -0.056433 -0.110010  ...   \n",
              "1 -0.098245  0.075923 -0.055532 -0.069492  0.336250 -0.147553 -0.115740  ...   \n",
              "2 -0.149943 -0.155567  0.851448 -0.023883  0.310433 -0.118888 -0.114958  ...   \n",
              "3 -0.122655 -0.157069  0.216110  0.053469 -0.146146 -0.230143 -0.087101  ...   \n",
              "4 -0.068650 -0.018985  0.022607  1.174893  0.177848 -0.096873 -0.134003  ...   \n",
              "\n",
              "       1782      1783      1784      1785      1786      1787      1788  \\\n",
              "0  0.057381 -0.049127 -0.164968 -0.228540 -0.178836  0.202133 -0.164508   \n",
              "1  0.199923 -0.165566 -0.171385 -0.233517  0.019979  0.137625 -0.166060   \n",
              "2  0.628066 -0.166223 -0.154654 -0.214810 -0.149376 -0.001795 -0.192078   \n",
              "3  0.350972 -0.101271 -0.175364 -0.205283  0.426783  0.399639 -0.195552   \n",
              "4  1.236458  0.235701 -0.053071 -0.034010 -0.116724  0.018900 -0.207200   \n",
              "\n",
              "       1789      1790      1791  \n",
              "0 -0.105748 -0.170468 -0.209100  \n",
              "1 -0.120308 -0.193541 -0.079832  \n",
              "2 -0.163293 -0.161350 -0.222182  \n",
              "3 -0.087466 -0.228071 -0.089991  \n",
              "4 -0.148729 -0.043675 -0.085650  \n",
              "\n",
              "[5 rows x 1794 columns]"
            ],
            "text/html": [
              "\n",
              "  <div id=\"df-8a1bcf45-4666-465a-b9b1-9fd5ddaa544d\">\n",
              "    <div class=\"colab-df-container\">\n",
              "      <div>\n",
              "<style scoped>\n",
              "    .dataframe tbody tr th:only-of-type {\n",
              "        vertical-align: middle;\n",
              "    }\n",
              "\n",
              "    .dataframe tbody tr th {\n",
              "        vertical-align: top;\n",
              "    }\n",
              "\n",
              "    .dataframe thead th {\n",
              "        text-align: right;\n",
              "    }\n",
              "</style>\n",
              "<table border=\"1\" class=\"dataframe\">\n",
              "  <thead>\n",
              "    <tr style=\"text-align: right;\">\n",
              "      <th></th>\n",
              "      <th>filepaths</th>\n",
              "      <th>classes</th>\n",
              "      <th>0</th>\n",
              "      <th>1</th>\n",
              "      <th>2</th>\n",
              "      <th>3</th>\n",
              "      <th>4</th>\n",
              "      <th>5</th>\n",
              "      <th>6</th>\n",
              "      <th>7</th>\n",
              "      <th>...</th>\n",
              "      <th>1782</th>\n",
              "      <th>1783</th>\n",
              "      <th>1784</th>\n",
              "      <th>1785</th>\n",
              "      <th>1786</th>\n",
              "      <th>1787</th>\n",
              "      <th>1788</th>\n",
              "      <th>1789</th>\n",
              "      <th>1790</th>\n",
              "      <th>1791</th>\n",
              "    </tr>\n",
              "  </thead>\n",
              "  <tbody>\n",
              "    <tr>\n",
              "      <th>0</th>\n",
              "      <td>/content/imagewoof2/val/n02086240/ILSVRC2012_v...</td>\n",
              "      <td>n02086240</td>\n",
              "      <td>0.010032</td>\n",
              "      <td>-0.134886</td>\n",
              "      <td>-0.145639</td>\n",
              "      <td>0.219374</td>\n",
              "      <td>-0.187060</td>\n",
              "      <td>0.417243</td>\n",
              "      <td>-0.056433</td>\n",
              "      <td>-0.110010</td>\n",
              "      <td>...</td>\n",
              "      <td>0.057381</td>\n",
              "      <td>-0.049127</td>\n",
              "      <td>-0.164968</td>\n",
              "      <td>-0.228540</td>\n",
              "      <td>-0.178836</td>\n",
              "      <td>0.202133</td>\n",
              "      <td>-0.164508</td>\n",
              "      <td>-0.105748</td>\n",
              "      <td>-0.170468</td>\n",
              "      <td>-0.209100</td>\n",
              "    </tr>\n",
              "    <tr>\n",
              "      <th>1</th>\n",
              "      <td>/content/imagewoof2/val/n02086240/ILSVRC2012_v...</td>\n",
              "      <td>n02086240</td>\n",
              "      <td>-0.067582</td>\n",
              "      <td>-0.098245</td>\n",
              "      <td>0.075923</td>\n",
              "      <td>-0.055532</td>\n",
              "      <td>-0.069492</td>\n",
              "      <td>0.336250</td>\n",
              "      <td>-0.147553</td>\n",
              "      <td>-0.115740</td>\n",
              "      <td>...</td>\n",
              "      <td>0.199923</td>\n",
              "      <td>-0.165566</td>\n",
              "      <td>-0.171385</td>\n",
              "      <td>-0.233517</td>\n",
              "      <td>0.019979</td>\n",
              "      <td>0.137625</td>\n",
              "      <td>-0.166060</td>\n",
              "      <td>-0.120308</td>\n",
              "      <td>-0.193541</td>\n",
              "      <td>-0.079832</td>\n",
              "    </tr>\n",
              "    <tr>\n",
              "      <th>2</th>\n",
              "      <td>/content/imagewoof2/val/n02086240/ILSVRC2012_v...</td>\n",
              "      <td>n02086240</td>\n",
              "      <td>0.042435</td>\n",
              "      <td>-0.149943</td>\n",
              "      <td>-0.155567</td>\n",
              "      <td>0.851448</td>\n",
              "      <td>-0.023883</td>\n",
              "      <td>0.310433</td>\n",
              "      <td>-0.118888</td>\n",
              "      <td>-0.114958</td>\n",
              "      <td>...</td>\n",
              "      <td>0.628066</td>\n",
              "      <td>-0.166223</td>\n",
              "      <td>-0.154654</td>\n",
              "      <td>-0.214810</td>\n",
              "      <td>-0.149376</td>\n",
              "      <td>-0.001795</td>\n",
              "      <td>-0.192078</td>\n",
              "      <td>-0.163293</td>\n",
              "      <td>-0.161350</td>\n",
              "      <td>-0.222182</td>\n",
              "    </tr>\n",
              "    <tr>\n",
              "      <th>3</th>\n",
              "      <td>/content/imagewoof2/val/n02086240/ILSVRC2012_v...</td>\n",
              "      <td>n02086240</td>\n",
              "      <td>0.332426</td>\n",
              "      <td>-0.122655</td>\n",
              "      <td>-0.157069</td>\n",
              "      <td>0.216110</td>\n",
              "      <td>0.053469</td>\n",
              "      <td>-0.146146</td>\n",
              "      <td>-0.230143</td>\n",
              "      <td>-0.087101</td>\n",
              "      <td>...</td>\n",
              "      <td>0.350972</td>\n",
              "      <td>-0.101271</td>\n",
              "      <td>-0.175364</td>\n",
              "      <td>-0.205283</td>\n",
              "      <td>0.426783</td>\n",
              "      <td>0.399639</td>\n",
              "      <td>-0.195552</td>\n",
              "      <td>-0.087466</td>\n",
              "      <td>-0.228071</td>\n",
              "      <td>-0.089991</td>\n",
              "    </tr>\n",
              "    <tr>\n",
              "      <th>4</th>\n",
              "      <td>/content/imagewoof2/val/n02086240/ILSVRC2012_v...</td>\n",
              "      <td>n02086240</td>\n",
              "      <td>0.263282</td>\n",
              "      <td>-0.068650</td>\n",
              "      <td>-0.018985</td>\n",
              "      <td>0.022607</td>\n",
              "      <td>1.174893</td>\n",
              "      <td>0.177848</td>\n",
              "      <td>-0.096873</td>\n",
              "      <td>-0.134003</td>\n",
              "      <td>...</td>\n",
              "      <td>1.236458</td>\n",
              "      <td>0.235701</td>\n",
              "      <td>-0.053071</td>\n",
              "      <td>-0.034010</td>\n",
              "      <td>-0.116724</td>\n",
              "      <td>0.018900</td>\n",
              "      <td>-0.207200</td>\n",
              "      <td>-0.148729</td>\n",
              "      <td>-0.043675</td>\n",
              "      <td>-0.085650</td>\n",
              "    </tr>\n",
              "  </tbody>\n",
              "</table>\n",
              "<p>5 rows × 1794 columns</p>\n",
              "</div>\n",
              "      <button class=\"colab-df-convert\" onclick=\"convertToInteractive('df-8a1bcf45-4666-465a-b9b1-9fd5ddaa544d')\"\n",
              "              title=\"Convert this dataframe to an interactive table.\"\n",
              "              style=\"display:none;\">\n",
              "        \n",
              "  <svg xmlns=\"http://www.w3.org/2000/svg\" height=\"24px\"viewBox=\"0 0 24 24\"\n",
              "       width=\"24px\">\n",
              "    <path d=\"M0 0h24v24H0V0z\" fill=\"none\"/>\n",
              "    <path d=\"M18.56 5.44l.94 2.06.94-2.06 2.06-.94-2.06-.94-.94-2.06-.94 2.06-2.06.94zm-11 1L8.5 8.5l.94-2.06 2.06-.94-2.06-.94L8.5 2.5l-.94 2.06-2.06.94zm10 10l.94 2.06.94-2.06 2.06-.94-2.06-.94-.94-2.06-.94 2.06-2.06.94z\"/><path d=\"M17.41 7.96l-1.37-1.37c-.4-.4-.92-.59-1.43-.59-.52 0-1.04.2-1.43.59L10.3 9.45l-7.72 7.72c-.78.78-.78 2.05 0 2.83L4 21.41c.39.39.9.59 1.41.59.51 0 1.02-.2 1.41-.59l7.78-7.78 2.81-2.81c.8-.78.8-2.07 0-2.86zM5.41 20L4 18.59l7.72-7.72 1.47 1.35L5.41 20z\"/>\n",
              "  </svg>\n",
              "      </button>\n",
              "      \n",
              "  <style>\n",
              "    .colab-df-container {\n",
              "      display:flex;\n",
              "      flex-wrap:wrap;\n",
              "      gap: 12px;\n",
              "    }\n",
              "\n",
              "    .colab-df-convert {\n",
              "      background-color: #E8F0FE;\n",
              "      border: none;\n",
              "      border-radius: 50%;\n",
              "      cursor: pointer;\n",
              "      display: none;\n",
              "      fill: #1967D2;\n",
              "      height: 32px;\n",
              "      padding: 0 0 0 0;\n",
              "      width: 32px;\n",
              "    }\n",
              "\n",
              "    .colab-df-convert:hover {\n",
              "      background-color: #E2EBFA;\n",
              "      box-shadow: 0px 1px 2px rgba(60, 64, 67, 0.3), 0px 1px 3px 1px rgba(60, 64, 67, 0.15);\n",
              "      fill: #174EA6;\n",
              "    }\n",
              "\n",
              "    [theme=dark] .colab-df-convert {\n",
              "      background-color: #3B4455;\n",
              "      fill: #D2E3FC;\n",
              "    }\n",
              "\n",
              "    [theme=dark] .colab-df-convert:hover {\n",
              "      background-color: #434B5C;\n",
              "      box-shadow: 0px 1px 3px 1px rgba(0, 0, 0, 0.15);\n",
              "      filter: drop-shadow(0px 1px 2px rgba(0, 0, 0, 0.3));\n",
              "      fill: #FFFFFF;\n",
              "    }\n",
              "  </style>\n",
              "\n",
              "      <script>\n",
              "        const buttonEl =\n",
              "          document.querySelector('#df-8a1bcf45-4666-465a-b9b1-9fd5ddaa544d button.colab-df-convert');\n",
              "        buttonEl.style.display =\n",
              "          google.colab.kernel.accessAllowed ? 'block' : 'none';\n",
              "\n",
              "        async function convertToInteractive(key) {\n",
              "          const element = document.querySelector('#df-8a1bcf45-4666-465a-b9b1-9fd5ddaa544d');\n",
              "          const dataTable =\n",
              "            await google.colab.kernel.invokeFunction('convertToInteractive',\n",
              "                                                     [key], {});\n",
              "          if (!dataTable) return;\n",
              "\n",
              "          const docLinkHtml = 'Like what you see? Visit the ' +\n",
              "            '<a target=\"_blank\" href=https://colab.research.google.com/notebooks/data_table.ipynb>data table notebook</a>'\n",
              "            + ' to learn more about interactive tables.';\n",
              "          element.innerHTML = '';\n",
              "          dataTable['output_type'] = 'display_data';\n",
              "          await google.colab.output.renderOutput(dataTable, element);\n",
              "          const docLink = document.createElement('div');\n",
              "          docLink.innerHTML = docLinkHtml;\n",
              "          element.appendChild(docLink);\n",
              "        }\n",
              "      </script>\n",
              "    </div>\n",
              "  </div>\n",
              "  "
            ]
          },
          "metadata": {},
          "execution_count": 10
        }
      ]
    },
    {
      "cell_type": "markdown",
      "source": [
        "## Treinamento do modelo"
      ],
      "metadata": {
        "id": "XWzVapssAB5s"
      }
    },
    {
      "cell_type": "code",
      "source": [
        "from sklearn.linear_model import LogisticRegression\n"
      ],
      "metadata": {
        "id": "o2rMjYBJADy8"
      },
      "execution_count": 11,
      "outputs": []
    },
    {
      "cell_type": "code",
      "source": [
        "X_train = train.drop(['filepaths', 'classes'], axis=1)\n",
        "X_test = test.drop(['filepaths', 'classes'], axis=1)\n",
        "\n",
        "y_train = train['classes']\n",
        "y_test = test['classes']\n",
        "\n",
        "\n",
        "lr = LogisticRegression().fit(X_train, y_train)"
      ],
      "metadata": {
        "colab": {
          "base_uri": "https://localhost:8080/"
        },
        "id": "Fvi4Kv-RAF1U",
        "outputId": "f6fd474d-25f6-4159-c01a-0a32d5f40715"
      },
      "execution_count": 12,
      "outputs": [
        {
          "output_type": "stream",
          "name": "stderr",
          "text": [
            "/usr/local/lib/python3.8/dist-packages/sklearn/linear_model/_logistic.py:814: ConvergenceWarning: lbfgs failed to converge (status=1):\n",
            "STOP: TOTAL NO. of ITERATIONS REACHED LIMIT.\n",
            "\n",
            "Increase the number of iterations (max_iter) or scale the data as shown in:\n",
            "    https://scikit-learn.org/stable/modules/preprocessing.html\n",
            "Please also refer to the documentation for alternative solver options:\n",
            "    https://scikit-learn.org/stable/modules/linear_model.html#logistic-regression\n",
            "  n_iter_i = _check_optimize_result(\n"
          ]
        }
      ]
    },
    {
      "cell_type": "markdown",
      "source": [
        "## Métricas"
      ],
      "metadata": {
        "id": "xnY2pLXJAIML"
      }
    },
    {
      "cell_type": "code",
      "source": [
        "# acurácia\n",
        "lr.score(X_test, y_test)"
      ],
      "metadata": {
        "colab": {
          "base_uri": "https://localhost:8080/"
        },
        "id": "sYctkwn6AJua",
        "outputId": "e98d01e9-cc34-4ee7-8e54-0ea3d23e90b8"
      },
      "execution_count": 13,
      "outputs": [
        {
          "output_type": "execute_result",
          "data": {
            "text/plain": [
              "0.9592771697632986"
            ]
          },
          "metadata": {},
          "execution_count": 13
        }
      ]
    },
    {
      "cell_type": "code",
      "source": [
        "from sklearn.metrics import confusion_matrix\n"
      ],
      "metadata": {
        "id": "V-PLnyCWAJ2a"
      },
      "execution_count": 14,
      "outputs": []
    },
    {
      "cell_type": "code",
      "source": [
        "y_pred = lr.predict(X_test)\n",
        "cm = confusion_matrix(y_test, y_pred)\n",
        "cm"
      ],
      "metadata": {
        "colab": {
          "base_uri": "https://localhost:8080/"
        },
        "id": "s8iLGesGANec",
        "outputId": "26c42b9a-79a7-4bd3-ed47-dc402395605c"
      },
      "execution_count": 15,
      "outputs": [
        {
          "output_type": "execute_result",
          "data": {
            "text/plain": [
              "array([[396,   0,   0,   0,   5,   0,   2,   5,   1,   0],\n",
              "       [  0, 396,   0,   1,   3,   2,   4,   0,   0,   2],\n",
              "       [  2,   3, 392,  18,   2,   0,   0,   0,   0,   1],\n",
              "       [  2,   4,  22, 191,   1,   0,   1,   0,   0,   3],\n",
              "       [  4,   1,   1,   0, 388,   5,   0,   1,   1,   0],\n",
              "       [  3,   1,   0,   3,  10, 386,   0,   2,   0,   2],\n",
              "       [  2,   2,   0,   1,   1,   2, 391,   0,   1,   1],\n",
              "       [  5,   1,   0,   0,   0,   0,   1, 414,   1,   0],\n",
              "       [  0,   0,   0,   0,   0,   0,   2,   2, 424,   1],\n",
              "       [  1,   7,   1,   2,   3,   1,   4,   0,   0, 391]])"
            ]
          },
          "metadata": {},
          "execution_count": 15
        }
      ]
    },
    {
      "cell_type": "code",
      "source": [
        "import seaborn as sns\n",
        "sns.heatmap(cm, annot=True, fmt='g')"
      ],
      "metadata": {
        "colab": {
          "base_uri": "https://localhost:8080/",
          "height": 282
        },
        "id": "enYLWBJKAPLT",
        "outputId": "f7f6064e-2ac7-48f3-a908-792cec349f22"
      },
      "execution_count": 16,
      "outputs": [
        {
          "output_type": "execute_result",
          "data": {
            "text/plain": [
              "<matplotlib.axes._subplots.AxesSubplot at 0x7f72b18cc160>"
            ]
          },
          "metadata": {},
          "execution_count": 16
        },
        {
          "output_type": "display_data",
          "data": {
            "text/plain": [
              "<Figure size 432x288 with 2 Axes>"
            ],
            "image/png": "[encoded data removed]"
          },
          "metadata": {
            "needs_background": "light"
          }
        }
      ]
    }
  ]
}